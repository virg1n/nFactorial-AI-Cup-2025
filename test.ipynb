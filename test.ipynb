{
 "cells": [
  {
   "cell_type": "code",
   "execution_count": 2,
   "id": "040cd1ef",
   "metadata": {},
   "outputs": [],
   "source": [
    "def clean_json(content):\n",
    "    if content.startswith(\"```json\"):\n",
    "        content = content[\n",
    "            len(\"```json\") :\n",
    "        ].strip()\n",
    "\n",
    "    elif content.startswith(\"```\"):\n",
    "        content = content[\n",
    "            len(\"```\") :\n",
    "        ].strip()\n",
    "\n",
    "    if content.endswith(\"```\"):\n",
    "        content = content[\n",
    "            : -len(\"```\")\n",
    "        ].strip()\n",
    "\n",
    "    content = \"\\n\".join(line.strip() for line in content.splitlines())\n",
    "\n",
    "    return content"
   ]
  },
  {
   "cell_type": "code",
   "execution_count": 10,
   "id": "092e4151",
   "metadata": {},
   "outputs": [],
   "source": [
    "lol = clean_json(\n",
    "    content='''```json\n",
    "        [\n",
    "            { \"thought\": \"Searching the operating system to find Google Chrome because it appears I need to open it\", \"operation\": \"press\", \"keys\": [\"win\"] },\n",
    "            { \"thought\": \"Now I need to write 'Google Chrome' to search for it in the start menu\", \"operation\": \"write\", \"content\": \"Google Chrome\" },\n",
    "            { \"thought\": \"I'll press enter to open Google Chrome assuming it is available\", \"operation\": \"press\", \"keys\": [\"enter\"] }\n",
    "        ]\n",
    "```'''\n",
    ")"
   ]
  },
  {
   "cell_type": "code",
   "execution_count": 17,
   "id": "445adf53",
   "metadata": {},
   "outputs": [
    {
     "name": "stdout",
     "output_type": "stream",
     "text": [
      "press\n"
     ]
    }
   ],
   "source": [
    "print(content[0]['operation'])"
   ]
  },
  {
   "cell_type": "code",
   "execution_count": 12,
   "id": "78c037f8",
   "metadata": {},
   "outputs": [],
   "source": [
    "import json\n",
    "content = json.loads(lol)"
   ]
  },
  {
   "cell_type": "code",
   "execution_count": 18,
   "id": "88499779",
   "metadata": {},
   "outputs": [],
   "source": [
    "lol = {'thought': 'Press the Windows key to open the start menu and search for Google Chrome.', 'operation_type': 'press', 'keys': ['win']}"
   ]
  },
  {
   "cell_type": "code",
   "execution_count": 21,
   "id": "5f307881",
   "metadata": {},
   "outputs": [
    {
     "data": {
      "text/plain": [
       "['win']"
      ]
     },
     "execution_count": 21,
     "metadata": {},
     "output_type": "execute_result"
    }
   ],
   "source": [
    "lol['keys']"
   ]
  },
  {
   "cell_type": "code",
   "execution_count": 23,
   "id": "838d9a1c",
   "metadata": {},
   "outputs": [],
   "source": [
    "lol = [\n",
    "    { \"thought\": \"I can see the search field with the placeholder text 'search'. I click that field to search\", \"operation_type\": \"click\", \"text\": \"search\" },\n",
    "]"
   ]
  },
  {
   "cell_type": "code",
   "execution_count": 25,
   "id": "c56c60ad",
   "metadata": {},
   "outputs": [
    {
     "data": {
      "text/plain": [
       "'search'"
      ]
     },
     "execution_count": 25,
     "metadata": {},
     "output_type": "execute_result"
    }
   ],
   "source": [
    "lol[0][\"text\"]"
   ]
  },
  {
   "cell_type": "code",
   "execution_count": 26,
   "id": "3fe85cba",
   "metadata": {},
   "outputs": [],
   "source": [
    "words = [\"adas\", \"asd\", \"dsfsd\"]"
   ]
  },
  {
   "cell_type": "code",
   "execution_count": 28,
   "id": "c1065d85",
   "metadata": {},
   "outputs": [
    {
     "data": {
      "text/plain": [
       "['adas', 'asd', 'dsfsd']"
      ]
     },
     "execution_count": 28,
     "metadata": {},
     "output_type": "execute_result"
    }
   ],
   "source": [
    "words[:5]"
   ]
  },
  {
   "cell_type": "code",
   "execution_count": 29,
   "id": "347dca8c",
   "metadata": {},
   "outputs": [],
   "source": [
    "lol = {'thought': 'I need to open Google Chrome from the taskbar to access WhatsApp Web.', 'operation_type': 'click', 'text': 'Google Chrome'}"
   ]
  },
  {
   "cell_type": "code",
   "execution_count": 30,
   "id": "9f97183c",
   "metadata": {},
   "outputs": [
    {
     "data": {
      "text/plain": [
       "'Google Chrome'"
      ]
     },
     "execution_count": 30,
     "metadata": {},
     "output_type": "execute_result"
    }
   ],
   "source": [
    "lol[\"text\"]"
   ]
  },
  {
   "cell_type": "code",
   "execution_count": 34,
   "id": "431d49d7",
   "metadata": {},
   "outputs": [
    {
     "data": {
      "text/plain": [
       "['Google', 'Chrome']"
      ]
     },
     "execution_count": 34,
     "metadata": {},
     "output_type": "execute_result"
    }
   ],
   "source": [
    "lol[\"text\"].split(\" \")[:3]"
   ]
  },
  {
   "cell_type": "code",
   "execution_count": null,
   "id": "b66a33c4",
   "metadata": {},
   "outputs": [],
   "source": []
  }
 ],
 "metadata": {
  "kernelspec": {
   "display_name": "Python 3",
   "language": "python",
   "name": "python3"
  },
  "language_info": {
   "codemirror_mode": {
    "name": "ipython",
    "version": 3
   },
   "file_extension": ".py",
   "mimetype": "text/x-python",
   "name": "python",
   "nbconvert_exporter": "python",
   "pygments_lexer": "ipython3",
   "version": "3.11.9"
  }
 },
 "nbformat": 4,
 "nbformat_minor": 5
}
